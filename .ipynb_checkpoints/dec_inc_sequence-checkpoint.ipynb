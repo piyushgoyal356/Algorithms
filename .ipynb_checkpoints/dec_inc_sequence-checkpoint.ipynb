{
 "cells": [
  {
   "cell_type": "code",
   "execution_count": null,
   "metadata": {},
   "outputs": [],
   "source": [
    "def function(n,listx):\n",
    "\n",
    "\tflag = 'dec'\n",
    "\tans = 'true'\n",
    "\tfor i in range(0,n-1):\n",
    "\t\tif listx[i+1]==listx[i]:\n",
    "\t\t\tans = 'false'\n",
    "\t\t\tbreak\n",
    "\t\tif flag == 'dec':\n",
    "\t\t\tif listx[i+1]>listx[i]:\n",
    "\t\t\t\tflag = 'inc'\n",
    "\t\tif flag == 'inc':\n",
    "\t\t\tif listx[i+1]<listx[i]:\n",
    "\t\t\t\tans = 'false'\n",
    "\t\t\t\tbreak\n",
    "\t\n",
    "\tprint(ans)\n",
    "\n",
    "n = int(input())\n",
    "listx = []\n",
    "for i in range(0,n):\n",
    "    listx.append(int(input()))\n",
    "function(n,listx)"
   ]
  },
  {
   "cell_type": "code",
   "execution_count": 1,
   "metadata": {},
   "outputs": [
    {
     "name": "stdout",
     "output_type": "stream",
     "text": [
      "1\n",
      "0\n",
      "(0,0) \n"
     ]
    }
   ],
   "source": [
    "import math\n",
    "T = int(input())\n",
    "maxValue = math.floor(math.sqrt(1000))\n",
    "l = []\n",
    "for i in range(0,maxValue):\n",
    "\tl.append(i**2)\n",
    "\n",
    "for i in range(0,T):\n",
    "\tA = int(input())\n",
    "\tmaxb = math.floor(math.sqrt(A))\n",
    "\tmaxa = math.floor(math.sqrt(A/2))\n",
    "\tfor j in range(0,maxa+1):\n",
    "\t\ttry:\n",
    "\t\t\tb = l.index(A-l[j])\n",
    "\t\t\t# string = '(' + j + ',' + b + ')'\n",
    "\t\t\tprint(\"(%d,%d)\"%(j,b),end=\" \")\n",
    "\t\texcept:\n",
    "\t\t\tpass\n",
    "\tprint()"
   ]
  }
 ],
 "metadata": {
  "kernelspec": {
   "display_name": "Python 3",
   "language": "python",
   "name": "python3"
  },
  "language_info": {
   "codemirror_mode": {
    "name": "ipython",
    "version": 3
   },
   "file_extension": ".py",
   "mimetype": "text/x-python",
   "name": "python",
   "nbconvert_exporter": "python",
   "pygments_lexer": "ipython3",
   "version": "3.8.3"
  }
 },
 "nbformat": 4,
 "nbformat_minor": 4
}

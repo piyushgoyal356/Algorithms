{
 "cells": [
  {
   "cell_type": "code",
   "execution_count": 14,
   "metadata": {},
   "outputs": [],
   "source": [
    "import time\n",
    "\n",
    "def Balanced_value(par):\n",
    "    value = 0\n",
    "    for i in par:\n",
    "        value += (-1, 1)[i == '(']\n",
    "        if value < 0:\n",
    "            break\n",
    "    return value"
   ]
  },
  {
   "cell_type": "code",
   "execution_count": 16,
   "metadata": {},
   "outputs": [
    {
     "name": "stdout",
     "output_type": "stream",
     "text": [
      "2\n",
      "()()\n",
      "(())\n"
     ]
    }
   ],
   "source": [
    "def par_rec(par, n, opening, closing, n0):\n",
    "#     value = Balanced_value(par)\n",
    "    if opening>n0 or n<0 or closing>opening:\n",
    "        return \n",
    "    elif n==0:\n",
    "        if closing==opening:\n",
    "            print(par)\n",
    "        return\n",
    "    \n",
    "    par_rec(par+')',n-1 , opening, closing+1 , n0)\n",
    "    par_rec(par+'(',n-1, opening+1, closing, n0)\n",
    "    return\n",
    "    \n",
    "n = input()\n",
    "# start = time.time()\n",
    "par_rec('', 2*int(n), 0, 0 , int(n))\n",
    "# end = time.time()\n",
    "# print(time.strftime(\"%H:%M:%S\", time.gmtime(end-start)))"
   ]
  }
 ],
 "metadata": {
  "kernelspec": {
   "display_name": "Python 3",
   "language": "python",
   "name": "python3"
  },
  "language_info": {
   "codemirror_mode": {
    "name": "ipython",
    "version": 3
   },
   "file_extension": ".py",
   "mimetype": "text/x-python",
   "name": "python",
   "nbconvert_exporter": "python",
   "pygments_lexer": "ipython3",
   "version": "3.8.3"
  }
 },
 "nbformat": 4,
 "nbformat_minor": 4
}

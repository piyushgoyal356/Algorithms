{
 "cells": [
  {
   "cell_type": "markdown",
   "metadata": {},
   "source": [
    "## Modifyied Sieve of eratosthenes\n",
    "\n",
    "Generating all prime numbers between two given numbers!\n",
    "\n",
    "\n",
    "### input:\n",
    "2 - Number of test Cases\\\n",
    "1 10 -From To\\\n",
    "3 5  -From To"
   ]
  },
  {
   "cell_type": "code",
   "execution_count": 6,
   "metadata": {},
   "outputs": [
    {
     "name": "stdout",
     "output_type": "stream",
     "text": [
      "1\n",
      "1 2\n",
      "2\n"
     ]
    }
   ],
   "source": [
    "import math\n",
    "\n",
    "val = 10000\n",
    "maxVal = math.floor(math.sqrt(val))\n",
    "\n",
    "primeList = []\n",
    "for i in range(0,val+1):\n",
    "    primeList.append(1)\n",
    "\n",
    "def primes():\n",
    "    primeList[1] = 0\n",
    "    for i in range(2,val//2+1):\n",
    "        primeList[2*i] = 0\n",
    "\n",
    "    for i in range(3,maxVal+1):\n",
    "        if primeList[i]:\n",
    "            for j in range(i*i,val//i+1,2*i):\n",
    "                primeList[j] = 0\n",
    "\n",
    "    return\n",
    "\n",
    "T = int(input())\n",
    "primes()\n",
    "for i in range(0,T):\n",
    "    a,b = input().split()\n",
    "    # b = int(input())\n",
    "    a,b = int(a), int(b)\n",
    "    ans = []\n",
    "    for j in range(a,b+1):\n",
    "        if primeList[j]:\n",
    "            ans.append(j)\n",
    "    print(*ans)"
   ]
  },
  {
   "cell_type": "markdown",
   "metadata": {},
   "source": [
    "## Efficient sieve of Eratosthenes"
   ]
  },
  {
   "cell_type": "code",
   "execution_count": 1,
   "metadata": {},
   "outputs": [
    {
     "name": "stdout",
     "output_type": "stream",
     "text": [
      "2\n",
      "1 2\n",
      "2\n",
      "6 7\n",
      "7\n"
     ]
    }
   ],
   "source": [
    "import math\n",
    "\n",
    "def primes(a,b):\n",
    "    val = b-a+1\n",
    "    roota = math.floor(math.sqrt(a))\n",
    "    rootb = math.floor(math.sqrt(b))\n",
    "    primeList = []\n",
    "    for i in range(0,val):\n",
    "        primeList.append( (a+i)%2 )\n",
    "\n",
    "    if a==1:\n",
    "        primeList[0] = 0\n",
    "        primeList[1] = 1\n",
    "    if a==2:\n",
    "        primeList[0] = 1\n",
    "\n",
    "    for i in range(3,rootb+1,2):\n",
    "\n",
    "        if a%i != 0:\n",
    "            firstDiv = a+(i-a%i)\n",
    "        else:\n",
    "            firstDiv = a\n",
    "\n",
    "        if firstDiv==i:\n",
    "            firstDiv+=i\n",
    "\n",
    "        for j in range(firstDiv//i,b//i+1):\n",
    "            primeList[i*j-a] = 0\n",
    "\n",
    "    ans=[]\n",
    "    for j in range(0,val):\n",
    "        if primeList[j]:\n",
    "            ans.append(j+a)\n",
    "    print(*ans)\n",
    "\n",
    "    return\n",
    "\n",
    "T = int(input())\n",
    "for i in range(0,T):\n",
    "    a,b = input().split()\n",
    "    a,b = int(a), int(b)\n",
    "    if a!=b:\n",
    "        primes(a,b)"
   ]
  }
 ],
 "metadata": {
  "kernelspec": {
   "display_name": "Python 3",
   "language": "python",
   "name": "python3"
  },
  "language_info": {
   "codemirror_mode": {
    "name": "ipython",
    "version": 3
   },
   "file_extension": ".py",
   "mimetype": "text/x-python",
   "name": "python",
   "nbconvert_exporter": "python",
   "pygments_lexer": "ipython3",
   "version": "3.8.3"
  }
 },
 "nbformat": 4,
 "nbformat_minor": 4
}
